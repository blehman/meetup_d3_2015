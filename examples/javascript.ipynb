{
 "cells": [
  {
   "cell_type": "markdown",
   "metadata": {},
   "source": [
    "# Using D3 to Visualize and Interact with Distribution Grid Simulation Data\n",
    "\n",
    "#### Monte Lunacek\n",
    "\n",
    "<img src=\"files/img/working_with_d3.png\" style=\"width:500px\">"
   ]
  },
  {
   "cell_type": "markdown",
   "metadata": {
    "collapsed": true
   },
   "source": [
    "## Outline\n",
    "\n",
    "\n",
    "####How I use `d3.js` at NREL.\n",
    "\n",
    "- `Python` + `d3.js`\n",
    "- Motivating examples (maybe)\n",
    "   \n",
    "[Construction](http://mlunacek.org/15_construction/index.html)\n",
    "\n",
    "[Markets and EVs](http://mlunacek.org/19_real_time/index.html)\n",
    "   \n",
    "[HEMS and solar](http://mlunacek.org/22_hems_solar_pen/index.html)\n",
    "\n",
    "[Voltage and Load](http://mlunacek.org/01_voltage/index.html)\n",
    "\n",
    "####What are the key challenges when adding interaction?\n",
    "* `javascript` as a data structure manipulation tool...\n",
    "* Selecting objects from objects.\n",
    "   \n",
    "####Learn by Example\n",
    "\n",
    "[1. graph](01_graph.html)\n",
    "\n",
    "[2. line](02_lines.html)\n",
    "\n",
    "[3. graph + line](03_together.html)\n",
    "\n",
    "[4. voronoi graph](04_voronoi_graph.html)\n",
    "\n",
    "[5. voronoi interaction](05_voronoi_together.html)\n",
    "\n",
    "[6. final](06_lines.html)\n",
    "\n",
    "####Links\n",
    "\n",
    "[http:http://mlunacek.org/21_meetup_d3_2015/](http:http://mlunacek.org/21_meetup_d3_2015/)\n",
    "\n",
    "[https://github.com/mlunacek/meetup_d3_2015](https://github.com/mlunacek/meetup_d3_2015)\n",
    "   \n",
    "[http://learnjsdata.com/](http://learnjsdata.com/)\n",
    "\n",
    "[IPython notebook](https://store.continuum.io/cshop/anaconda/)\n",
    "\n",
    "[iJavascript](https://www.npmjs.com/package/ijavascript)\n",
    "\n",
    "\n"
   ]
  },
  {
   "cell_type": "markdown",
   "metadata": {
    "collapsed": true
   },
   "source": [
    "#Data "
   ]
  },
  {
   "cell_type": "code",
   "execution_count": 1,
   "metadata": {
    "collapsed": false
   },
   "outputs": [
    {
     "data": {
      "text/plain": [
       "undefined"
      ]
     },
     "execution_count": 1,
     "metadata": {},
     "output_type": "execute_result"
    }
   ],
   "source": [
    "var fs = require(\"fs\");\n",
    "var d3 = require(\"d3\");\n",
    "var _  = require(\"lodash\");"
   ]
  },
  {
   "cell_type": "markdown",
   "metadata": {},
   "source": [
    "## 1. Network Graph "
   ]
  },
  {
   "cell_type": "markdown",
   "metadata": {},
   "source": [
    "This replaces the following code in the browser:\n",
    "\n",
    "        d3.json(\"data/example_nodes.json\", function(nodes) {\n",
    "            d3.json(\"data/example_edges.json\", function(edges) {\n",
    "        \n",
    "                // do something with nodes and edges\n",
    "              \n",
    "            });\n",
    "        });"
   ]
  },
  {
   "cell_type": "code",
   "execution_count": 2,
   "metadata": {
    "collapsed": false
   },
   "outputs": [
    {
     "data": {
      "text/plain": [
       "undefined"
      ]
     },
     "execution_count": 2,
     "metadata": {},
     "output_type": "execute_result"
    }
   ],
   "source": [
    "\n",
    "var nodes, edges;\n",
    "\n",
    "fs.readFile(\"data/example_nodes.json\", \"utf8\", function(error, node_data) {\n",
    "    fs.readFile(\"data/example_edges.json\", \"utf8\", function(error, edge_data) {\n",
    "        nodes = JSON.parse(node_data);\n",
    "        edges = JSON.parse(edge_data);\n",
    "    });\n",
    "});"
   ]
  },
  {
   "cell_type": "markdown",
   "metadata": {},
   "source": [
    "What does this look like?"
   ]
  },
  {
   "cell_type": "code",
   "execution_count": 3,
   "metadata": {
    "collapsed": false
   },
   "outputs": [
    {
     "data": {
      "text/plain": [
       "[ { y: -169.37, x: 90.19, name: 'B11' },\n",
       "  { y: 179.46, x: -38.979, name: 'B0' },\n",
       "  { y: 80.9, x: 85.935, name: 'B1' },\n",
       "  { y: 229.13, x: -99.801, name: 'B2' },\n",
       "  { y: -60.999, x: -85.874, name: 'B3' } ]"
      ]
     },
     "execution_count": 3,
     "metadata": {},
     "output_type": "execute_result"
    }
   ],
   "source": [
    "nodes.slice(0,5)"
   ]
  },
  {
   "cell_type": "code",
   "execution_count": 4,
   "metadata": {
    "collapsed": false
   },
   "outputs": [
    {
     "data": {
      "text/plain": [
       "[ { source: 'B0', target: 'B9' },\n",
       "  { source: 'B0', target: 'B2' },\n",
       "  { source: 'B4', target: 'B5' },\n",
       "  { source: 'B5', target: 'B1' },\n",
       "  { source: 'B5', target: 'B12' } ]"
      ]
     },
     "execution_count": 4,
     "metadata": {},
     "output_type": "execute_result"
    }
   ],
   "source": [
    "edges.slice(0,5)"
   ]
  },
  {
   "cell_type": "markdown",
   "metadata": {},
   "source": [
    "### Scales"
   ]
  },
  {
   "cell_type": "markdown",
   "metadata": {},
   "source": [
    "We could use `d3.max()` and `d3.min()`."
   ]
  },
  {
   "cell_type": "code",
   "execution_count": 5,
   "metadata": {
    "collapsed": false
   },
   "outputs": [
    {
     "data": {
      "text/plain": [
       "64.61642534221002"
      ]
     },
     "execution_count": 5,
     "metadata": {},
     "output_type": "execute_result"
    }
   ],
   "source": [
    "var min_x = d3.min(nodes, function(d){ return d['x'] });\n",
    "var max_x = d3.max(nodes, function(d){ return d['x'] });\n",
    "\n",
    "var x_scale = d3.scale.linear()\n",
    "                .domain([min_x, max_x])\n",
    "                .range([0, 100]);\n",
    "\n",
    "x_scale(75.0)"
   ]
  },
  {
   "cell_type": "markdown",
   "metadata": {},
   "source": [
    "### lodash"
   ]
  },
  {
   "cell_type": "code",
   "execution_count": 6,
   "metadata": {
    "collapsed": false
   },
   "outputs": [
    {
     "data": {
      "text/plain": [
       "[ { y: -169.37, x: 90.19, name: 'B11' },\n",
       "  { y: 179.46, x: -38.979, name: 'B0' },\n",
       "  { y: 80.9, x: 85.935, name: 'B1' },\n",
       "  { y: 229.13, x: -99.801, name: 'B2' },\n",
       "  { y: -60.999, x: -85.874, name: 'B3' } ]"
      ]
     },
     "execution_count": 6,
     "metadata": {},
     "output_type": "execute_result"
    }
   ],
   "source": [
    "nodes.slice(0,5)"
   ]
  },
  {
   "cell_type": "code",
   "execution_count": 7,
   "metadata": {
    "collapsed": false
   },
   "outputs": [
    {
     "data": {
      "text/plain": [
       "[ -169.37, 179.46, 80.9, 229.13, -60.999 ]"
      ]
     },
     "execution_count": 7,
     "metadata": {},
     "output_type": "execute_result"
    }
   ],
   "source": [
    "var xvals = _.pluck(nodes, \"x\")\n",
    "var yvals = _.pluck(nodes, \"y\")\n",
    "\n",
    "yvals.slice(0, 5)"
   ]
  },
  {
   "cell_type": "markdown",
   "metadata": {},
   "source": [
    "And then use `d3.extent()`."
   ]
  },
  {
   "cell_type": "code",
   "execution_count": 8,
   "metadata": {
    "collapsed": false
   },
   "outputs": [
    {
     "data": {
      "text/plain": [
       "[ -225.11, 229.13 ]"
      ]
     },
     "execution_count": 8,
     "metadata": {},
     "output_type": "execute_result"
    }
   ],
   "source": [
    "d3.extent(yvals)"
   ]
  },
  {
   "cell_type": "code",
   "execution_count": 9,
   "metadata": {
    "collapsed": false
   },
   "outputs": [
    {
     "data": {
      "text/plain": [
       "undefined"
      ]
     },
     "execution_count": 9,
     "metadata": {},
     "output_type": "execute_result"
    }
   ],
   "source": [
    "var x_scale = d3.scale.linear()\n",
    "                .domain(d3.extent(xvals))\n",
    "                .range([0, 100]);\n",
    "\n",
    "var y_scale = d3.scale.linear()\n",
    "                .domain(d3.extent(yvals))\n",
    "                .range([100, 0]);\n"
   ]
  },
  {
   "cell_type": "markdown",
   "metadata": {},
   "source": [
    "### Add the `x,y` values to the edges dataset."
   ]
  },
  {
   "cell_type": "markdown",
   "metadata": {},
   "source": [
    "The `javascript` `Array.prototype.forEach` method executes a provided function once per array element.\n",
    "\n",
    "We can use this to convert our `x` and `y` values.  Only call this **once** if you do it this way."
   ]
  },
  {
   "cell_type": "code",
   "execution_count": 10,
   "metadata": {
    "collapsed": false
   },
   "outputs": [
    {
     "data": {
      "text/plain": [
       "{ y: 87.7289538569919, x: 70.23151622240047, name: 'B11' }"
      ]
     },
     "execution_count": 10,
     "metadata": {},
     "output_type": "execute_result"
    }
   ],
   "source": [
    "nodes.forEach(function(d) {\n",
    "        d.x = x_scale(d.x);\n",
    "        d.y = y_scale(d.y); \n",
    "      });\n",
    "\n",
    "nodes[0]"
   ]
  },
  {
   "cell_type": "markdown",
   "metadata": {},
   "source": [
    "Let's create a fast *lookup* for these values."
   ]
  },
  {
   "cell_type": "code",
   "execution_count": 11,
   "metadata": {
    "collapsed": false
   },
   "outputs": [
    {
     "data": {
      "text/plain": [
       "{ B11: { y: 87.7289538569919, x: 70.23151622240047, name: 'B11' },\n",
       "  B0: { y: 10.9347481507573, x: 22.48328225904828, name: 'B0' },\n",
       "  B1: { y: 32.632529059528004, x: 68.6586253932227, name: 'B1' },\n",
       "  B2: { y: 0, x: 0, name: 'B2' },\n",
       "  B3: { y: 63.87130151461782, x: 5.148214001870468, name: 'B3' },\n",
       "  B10: { y: 100, x: 89.05815075354593, name: 'B10' },\n",
       "  B6: { y: 77.36218738992604, x: 46.36201995408859, name: 'B6' },\n",
       "  B7: { y: 42.31771750616414, x: 42.2407132902806, name: 'B7' },\n",
       "  B8: { y: 91.13464247974639, x: 26.55986041749069, name: 'B8' },\n",
       "  B13: { y: 60.25449101796407, x: 35.45358770668451, name: 'B13' },\n",
       "  B4: { y: 6.879623106727717, x: 100, name: 'B4' },\n",
       "  B9: { y: 29.013957379358935, x: 20.507834881580358, name: 'B9' },\n",
       "  B12: { y: 3.0644593166607836, x: 50.25894477693045, name: 'B12' },\n",
       "  B5: { y: 14.70368087354702, x: 74.08334288280761, name: 'B5' } }"
      ]
     },
     "execution_count": 11,
     "metadata": {},
     "output_type": "execute_result"
    }
   ],
   "source": [
    "node_map = {}\n",
    "nodes.forEach(function(d) { node_map[d.name] = d; });\n",
    "\n",
    "node_map"
   ]
  },
  {
   "cell_type": "markdown",
   "metadata": {},
   "source": [
    "And then add these values to the `edges` data with the `Array.prototype.forEach`."
   ]
  },
  {
   "cell_type": "code",
   "execution_count": 12,
   "metadata": {
    "collapsed": false
   },
   "outputs": [
    {
     "data": {
      "text/plain": [
       "[ { source: 'B0',\n",
       "    target: 'B9',\n",
       "    x1: 22.48328225904828,\n",
       "    y1: 10.9347481507573,\n",
       "    x2: 20.507834881580358,\n",
       "    y2: 29.013957379358935 },\n",
       "  { source: 'B0',\n",
       "    target: 'B2',\n",
       "    x1: 22.48328225904828,\n",
       "    y1: 10.9347481507573,\n",
       "    x2: 0,\n",
       "    y2: 0 } ]"
      ]
     },
     "execution_count": 12,
     "metadata": {},
     "output_type": "execute_result"
    }
   ],
   "source": [
    "edges.forEach(function(d) {\n",
    "        d.x1 = node_map[d.source].x;\n",
    "        d.y1 = node_map[d.source].y;\n",
    "        d.x2 = node_map[d.target].x;\n",
    "        d.y2 = node_map[d.target].y;\n",
    "    });\n",
    "\n",
    "edges.slice(0,2)"
   ]
  },
  {
   "cell_type": "markdown",
   "metadata": {
    "collapsed": true
   },
   "source": [
    "## 2. Load Lines "
   ]
  },
  {
   "cell_type": "markdown",
   "metadata": {},
   "source": [
    "Load the `csv` data.\n",
    "\n",
    "<img src=\"files/img/csv_table.png\">"
   ]
  },
  {
   "cell_type": "markdown",
   "metadata": {},
   "source": [
    "        d3.csv(\"data/example_load.csv\", function(load) {\n",
    "\n",
    "            //do something with load\n",
    "\n",
    "        });"
   ]
  },
  {
   "cell_type": "code",
   "execution_count": 14,
   "metadata": {
    "collapsed": false
   },
   "outputs": [
    {
     "data": {
      "text/plain": [
       "undefined"
      ]
     },
     "execution_count": 14,
     "metadata": {},
     "output_type": "execute_result"
    }
   ],
   "source": [
    "var load;\n",
    "\n",
    "fs.readFile(\"data/example_load.csv\", \"utf8\", function(error, load_data) {\n",
    "    load = d3.csv.parse(load_data);\n",
    "});"
   ]
  },
  {
   "cell_type": "markdown",
   "metadata": {},
   "source": [
    "When we parse this with `d3`, we get the following `json` structure."
   ]
  },
  {
   "cell_type": "code",
   "execution_count": 15,
   "metadata": {
    "collapsed": false
   },
   "outputs": [
    {
     "data": {
      "text/plain": [
       "[ { index: '2020-04-16 00:00:00',\n",
       "    B10: '0.857212669594',\n",
       "    B3: '7.67566995284',\n",
       "    B4: '1.60806522167',\n",
       "    B5: '7.68251588423',\n",
       "    B6: '0.514955844603',\n",
       "    B7: '0.642797357164',\n",
       "    B0: '3.21335934831',\n",
       "    B1: '1.54462066449',\n",
       "    B2: '2.96197679139',\n",
       "    B11: '4.31725502645',\n",
       "    B12: '5.92183807954',\n",
       "    B8: '0.513859419479',\n",
       "    B9: '3.21637589986',\n",
       "    B13: '8.98228200978' },\n",
       "  { index: '2020-04-16 00:10:00',\n",
       "    B10: '0.705776472345',\n",
       "    B3: '7.12484267385',\n",
       "    B4: '1.49799976561',\n",
       "    B5: '7.13251356121',\n",
       "    B6: '0.42384778337',\n",
       "    B7: '0.5732246859',\n",
       "    B0: '2.86936458419',\n",
       "    B1: '1.27137235012',\n",
       "    B2: '2.79434881965',\n",
       "    B11: '4.16494102534',\n",
       "    B12: '5.59046554751',\n",
       "    B8: '0.423153583419',\n",
       "    B9: '2.9934285503',\n",
       "    B13: '8.03711889237' } ]"
      ]
     },
     "execution_count": 15,
     "metadata": {},
     "output_type": "execute_result"
    }
   ],
   "source": [
    "load.slice(0,2)"
   ]
  },
  {
   "cell_type": "markdown",
   "metadata": {},
   "source": [
    "But what we want is a list of `objects`.\n",
    "\n",
    "         [ {\"name\":\"B10\", \"values\": [\n",
    "                         {\"x\":\"2020-04-16T06:00:00.000Z\", \"y\":0.857212669594},\n",
    "                         {\"x\":\"2020-04-16T06:10:00.000Z\", \"y\":0.705776472345},\n",
    "                         {\"x\":\"2020-04-16T06:20:00.000Z\", \"y\":0.719812464262},... ]}\n",
    "                         \n",
    "           {{\"name\":\"B3\", \"values\": [\n",
    "                         {\"x\":\"2020-04-16T06:00:00.000Z\", \"y\":0.857212669594},\n",
    "                         {\"x\":\"2020-04-16T06:10:00.000Z\", \"y\":0.705776472345},\n",
    "                         {\"x\":\"2020-04-16T06:20:00.000Z\", \"y\":0.719812464262},... ]}\n",
    "           \n",
    "           ...\n",
    "          ]\n",
    "         "
   ]
  },
  {
   "cell_type": "markdown",
   "metadata": {},
   "source": [
    "### Rearrange"
   ]
  },
  {
   "cell_type": "markdown",
   "metadata": {},
   "source": [
    "What are the `names`?"
   ]
  },
  {
   "cell_type": "code",
   "execution_count": 16,
   "metadata": {
    "collapsed": false
   },
   "outputs": [
    {
     "data": {
      "text/plain": [
       "[ 'B10', 'B3', 'B4', 'B5', 'B6' ]"
      ]
     },
     "execution_count": 16,
     "metadata": {},
     "output_type": "execute_result"
    }
   ],
   "source": [
    "var names = d3.keys(load[0]).filter(function(x) { return x !== \"index\"; })\n",
    "\n",
    "names.slice(0,5)"
   ]
  },
  {
   "cell_type": "markdown",
   "metadata": {},
   "source": [
    "Use the `Array.prototype.map` method to create our new array."
   ]
  },
  {
   "cell_type": "code",
   "execution_count": 17,
   "metadata": {
    "collapsed": false
   },
   "outputs": [
    {
     "data": {
      "text/plain": [
       "{ name: 'B10',\n",
       "  values: \n",
       "   [ { x: Thu Apr 16 2020 00:00:00 GMT-0600 (MDT),\n",
       "       y: 0.857212669594 },\n",
       "     { x: Thu Apr 16 2020 00:10:00 GMT-0600 (MDT),\n",
       "       y: 0.705776472345 },\n",
       "     { x: Thu Apr 16 2020 00:20:00 GMT-0600 (MDT),\n",
       "       y: 0.719812464262 },\n",
       "     { x: Thu Apr 16 2020 00:30:00 GMT-0600 (MDT),\n",
       "       y: 0.705856452329 },\n",
       "     { x: Thu Apr 16 2020 00:40:00 GMT-0600 (MDT),\n",
       "       y: 0.709668479812 },\n",
       "     { x: Thu Apr 16 2020 00:50:00 GMT-0600 (MDT),\n",
       "       y: 0.706665972836 },\n",
       "     { x: Thu Apr 16 2020 01:00:00 GMT-0600 (MDT),\n",
       "       y: 0.704977479627 },\n",
       "     { x: Thu Apr 16 2020 01:10:00 GMT-0600 (MDT),\n",
       "       y: 0.700186491876 },\n",
       "     { x: Thu Apr 16 2020 01:20:00 GMT-0600 (MDT),\n",
       "       y: 0.706996978359 },\n",
       "     { x: Thu Apr 16 2020 01:30:00 GMT-0600 (MDT),\n",
       "       y: 0.696038488204 },\n",
       "     { x: Thu Apr 16 2020 01:40:00 GMT-0600 (MDT),\n",
       "       y: 0.702172938959 },\n",
       "     { x: Thu Apr 16 2020 01:50:00 GMT-0600 (MDT),\n",
       "       y: 0.696802477428 },\n",
       "     { x: Thu Apr 16 2020 02:00:00 GMT-0600 (MDT),\n",
       "       y: 0.697226489813 },\n",
       "     { x: Thu Apr 16 2020 02:10:00 GMT-0600 (MDT),\n",
       "       y: 0.696246477069 },\n",
       "     { x: Thu Apr 16 2020 02:20:00 GMT-0600 (MDT),\n",
       "       y: 0.694969988082 },\n",
       "     { x: Thu Apr 16 2020 02:30:00 GMT-0600 (MDT),\n",
       "       y: 0.691345988843 },\n",
       "     { x: Thu Apr 16 2020 02:40:00 GMT-0600 (MDT),\n",
       "       y: 0.690531492564 },\n",
       "     { x: Thu Apr 16 2020 02:50:00 GMT-0600 (MDT),\n",
       "       y: 0.692835483399 },\n",
       "     { x: Thu Apr 16 2020 03:00:00 GMT-0600 (MDT),\n",
       "       y: 0.687086991062 },\n",
       "     { x: Thu Apr 16 2020 03:10:00 GMT-0600 (MDT),\n",
       "       y: 0.692392974766 },\n",
       "     { x: Thu Apr 16 2020 03:20:00 GMT-0600 (MDT),\n",
       "       y: 0.690951966147 },\n",
       "     { x: Thu Apr 16 2020 03:30:00 GMT-0600 (MDT),\n",
       "       y: 0.686555415236 },\n",
       "     { x: Thu Apr 16 2020 03:40:00 GMT-0600 (MDT),\n",
       "       y: 0.690944442543 },\n",
       "     { x: Thu Apr 16 2020 03:50:00 GMT-0600 (MDT),\n",
       "       y: 0.686466492956 },\n",
       "     { x: Thu Apr 16 2020 04:00:00 GMT-0600 (MDT),\n",
       "       y: 0.691811470669 },\n",
       "     { x: Thu Apr 16 2020 04:10:00 GMT-0600 (MDT),\n",
       "       y: 0.689249968484 },\n",
       "     { x: Thu Apr 16 2020 04:20:00 GMT-0600 (MDT),\n",
       "       y: 0.694775986515 },\n",
       "     { x: Thu Apr 16 2020 04:30:00 GMT-0600 (MDT),\n",
       "       y: 0.683636992603 },\n",
       "     { x: Thu Apr 16 2020 04:40:00 GMT-0600 (MDT),\n",
       "       y: 0.692864472851 },\n",
       "     { x: Thu Apr 16 2020 04:50:00 GMT-0600 (MDT),\n",
       "       y: 0.680544483018 },\n",
       "     { x: Thu Apr 16 2020 05:00:00 GMT-0600 (MDT),\n",
       "       y: 0.689433930167 },\n",
       "     { x: Thu Apr 16 2020 05:10:00 GMT-0600 (MDT),\n",
       "       y: 0.676779494788 },\n",
       "     { x: Thu Apr 16 2020 05:20:00 GMT-0600 (MDT),\n",
       "       y: 0.674292998466 },\n",
       "     { x: Thu Apr 16 2020 05:30:00 GMT-0600 (MDT),\n",
       "       y: 0.672412488891 },\n",
       "     { x: Thu Apr 16 2020 05:40:00 GMT-0600 (MDT),\n",
       "       y: 0.670495490709 },\n",
       "     { x: Thu Apr 16 2020 05:50:00 GMT-0600 (MDT),\n",
       "       y: 0.665584497364 },\n",
       "     { x: Thu Apr 16 2020 06:00:00 GMT-0600 (MDT),\n",
       "       y: 0.656028999567 },\n",
       "     { x: Thu Apr 16 2020 06:10:00 GMT-0600 (MDT),\n",
       "       y: 0.654626999697 },\n",
       "     { x: Thu Apr 16 2020 06:20:00 GMT-0600 (MDT),\n",
       "       y: 0.654620499698 },\n",
       "     { x: Thu Apr 16 2020 06:30:00 GMT-0600 (MDT),\n",
       "       y: 0.696402499711 },\n",
       "     { x: Thu Apr 16 2020 06:40:00 GMT-0600 (MDT), y: 0.6960485 },\n",
       "     { x: Thu Apr 16 2020 06:50:00 GMT-0600 (MDT), y: 0.696052 },\n",
       "     { x: Thu Apr 16 2020 07:00:00 GMT-0600 (MDT), y: 0.790365 },\n",
       "     { x: Thu Apr 16 2020 07:10:00 GMT-0600 (MDT),\n",
       "       y: 0.783941471238 },\n",
       "     { x: Thu Apr 16 2020 07:20:00 GMT-0600 (MDT),\n",
       "       y: 0.782790469432 },\n",
       "     { x: Thu Apr 16 2020 07:30:00 GMT-0600 (MDT),\n",
       "       y: 0.822705498752 },\n",
       "     { x: Thu Apr 16 2020 07:40:00 GMT-0600 (MDT),\n",
       "       y: 0.827206475349 },\n",
       "     { x: Thu Apr 16 2020 07:50:00 GMT-0600 (MDT),\n",
       "       y: 0.825516491356 },\n",
       "     { x: Thu Apr 16 2020 08:00:00 GMT-0600 (MDT), y: 1.12695799797 },\n",
       "     { x: Thu Apr 16 2020 08:10:00 GMT-0600 (MDT), y: 1.12552349131 },\n",
       "     { x: Thu Apr 16 2020 08:20:00 GMT-0600 (MDT), y: 1.12969749089 },\n",
       "     { x: Thu Apr 16 2020 08:30:00 GMT-0600 (MDT), y: 1.34362749634 },\n",
       "     { x: Thu Apr 16 2020 08:40:00 GMT-0600 (MDT), y: 1.33154798242 },\n",
       "     { x: Thu Apr 16 2020 08:50:00 GMT-0600 (MDT), y: 1.33183099699 },\n",
       "     { x: Thu Apr 16 2020 09:00:00 GMT-0600 (MDT), y: 1.5560404979 },\n",
       "     { x: Thu Apr 16 2020 09:10:00 GMT-0600 (MDT), y: 1.54866349938 },\n",
       "     { x: Thu Apr 16 2020 09:20:00 GMT-0600 (MDT), y: 1.58136099773 },\n",
       "     { x: Thu Apr 16 2020 09:30:00 GMT-0600 (MDT), y: 1.8385929972 },\n",
       "     { x: Thu Apr 16 2020 09:40:00 GMT-0600 (MDT), y: 1.85485599755 },\n",
       "     { x: Thu Apr 16 2020 09:50:00 GMT-0600 (MDT), y: 1.87753249859 },\n",
       "     { x: Thu Apr 16 2020 10:00:00 GMT-0600 (MDT), y: 1.8877064957 },\n",
       "     { x: Thu Apr 16 2020 10:10:00 GMT-0600 (MDT), y: 1.87987899733 },\n",
       "     { x: Thu Apr 16 2020 10:20:00 GMT-0600 (MDT), y: 1.94624849684 },\n",
       "     { x: Thu Apr 16 2020 10:30:00 GMT-0600 (MDT), y: 1.96559249775 },\n",
       "     { x: Thu Apr 16 2020 10:40:00 GMT-0600 (MDT), y: 2.01681249747 },\n",
       "     { x: Thu Apr 16 2020 10:50:00 GMT-0600 (MDT), y: 2.06608398451 },\n",
       "     { x: Thu Apr 16 2020 11:00:00 GMT-0600 (MDT), y: 2.04922297542 },\n",
       "     { x: Thu Apr 16 2020 11:10:00 GMT-0600 (MDT), y: 2.04954698507 },\n",
       "     { x: Thu Apr 16 2020 11:20:00 GMT-0600 (MDT), y: 2.04652649512 },\n",
       "     { x: Thu Apr 16 2020 11:30:00 GMT-0600 (MDT), y: 2.07118399329 },\n",
       "     { x: Thu Apr 16 2020 11:40:00 GMT-0600 (MDT), y: 2.13142599042 },\n",
       "     { x: Thu Apr 16 2020 11:50:00 GMT-0600 (MDT), y: 2.11015549248 },\n",
       "     { x: Thu Apr 16 2020 12:00:00 GMT-0600 (MDT), y: 2.14650299477 },\n",
       "     { x: Thu Apr 16 2020 12:10:00 GMT-0600 (MDT), y: 2.16270599615 },\n",
       "     { x: Thu Apr 16 2020 12:20:00 GMT-0600 (MDT), y: 2.23457349521 },\n",
       "     { x: Thu Apr 16 2020 12:30:00 GMT-0600 (MDT), y: 2.23833549723 },\n",
       "     { x: Thu Apr 16 2020 12:40:00 GMT-0600 (MDT), y: 2.20418999653 },\n",
       "     { x: Thu Apr 16 2020 12:50:00 GMT-0600 (MDT), y: 2.2586329967 },\n",
       "     { x: Thu Apr 16 2020 13:00:00 GMT-0600 (MDT), y: 2.23752599614 },\n",
       "     { x: Thu Apr 16 2020 13:10:00 GMT-0600 (MDT), y: 2.21697049656 },\n",
       "     { x: Thu Apr 16 2020 13:20:00 GMT-0600 (MDT), y: 2.17522199438 },\n",
       "     { x: Thu Apr 16 2020 13:30:00 GMT-0600 (MDT), y: 2.23076449367 },\n",
       "     { x: Thu Apr 16 2020 13:40:00 GMT-0600 (MDT), y: 2.12664349589 },\n",
       "     { x: Thu Apr 16 2020 13:50:00 GMT-0600 (MDT), y: 2.17741899132 },\n",
       "     { x: Thu Apr 16 2020 14:00:00 GMT-0600 (MDT), y: 2.16999149057 },\n",
       "     { x: Thu Apr 16 2020 14:10:00 GMT-0600 (MDT), y: 2.22207099126 },\n",
       "     { x: Thu Apr 16 2020 14:20:00 GMT-0600 (MDT), y: 2.15959249466 },\n",
       "     { x: Thu Apr 16 2020 14:30:00 GMT-0600 (MDT), y: 2.20669349562 },\n",
       "     { x: Thu Apr 16 2020 14:40:00 GMT-0600 (MDT), y: 2.17727549596 },\n",
       "     { x: Thu Apr 16 2020 14:50:00 GMT-0600 (MDT), y: 2.22196599365 },\n",
       "     { x: Thu Apr 16 2020 15:00:00 GMT-0600 (MDT), y: 2.21006698886 },\n",
       "     { x: Thu Apr 16 2020 15:10:00 GMT-0600 (MDT), y: 2.25652999133 },\n",
       "     { x: Thu Apr 16 2020 15:20:00 GMT-0600 (MDT), y: 2.26536299301 },\n",
       "     { x: Thu Apr 16 2020 15:30:00 GMT-0600 (MDT), y: 2.27941299775 },\n",
       "     { x: Thu Apr 16 2020 15:40:00 GMT-0600 (MDT), y: 2.28058199678 },\n",
       "     { x: Thu Apr 16 2020 15:50:00 GMT-0600 (MDT), y: 2.2730934931 },\n",
       "     { x: Thu Apr 16 2020 16:00:00 GMT-0600 (MDT), y: 2.27449799202 },\n",
       "     { x: Thu Apr 16 2020 16:10:00 GMT-0600 (MDT), y: 2.28389449458 },\n",
       "     { x: Thu Apr 16 2020 16:20:00 GMT-0600 (MDT), y: 2.27710749456 },\n",
       "     { x: Thu Apr 16 2020 16:30:00 GMT-0600 (MDT), y: 2.21649249589 },\n",
       "     { x: Thu Apr 16 2020 16:40:00 GMT-0600 (MDT), y: 2.20440399287 },\n",
       "     { x: Thu Apr 16 2020 16:50:00 GMT-0600 (MDT), y: 2.22603499335 },\n",
       "     { x: Thu Apr 16 2020 17:00:00 GMT-0600 (MDT), y: 2.23560749533 },\n",
       "     { x: Thu Apr 16 2020 17:10:00 GMT-0600 (MDT), y: 2.17184499814 },\n",
       "     { x: Thu Apr 16 2020 17:20:00 GMT-0600 (MDT), y: 2.15686099842 },\n",
       "     { x: Thu Apr 16 2020 17:30:00 GMT-0600 (MDT), y: 2.15342949757 },\n",
       "     { x: Thu Apr 16 2020 17:40:00 GMT-0600 (MDT), y: 2.13758749382 },\n",
       "     { x: Thu Apr 16 2020 17:50:00 GMT-0600 (MDT), y: 2.10518699454 },\n",
       "     { x: Thu Apr 16 2020 18:00:00 GMT-0600 (MDT), y: 2.06280749703 },\n",
       "     { x: Thu Apr 16 2020 18:10:00 GMT-0600 (MDT), y: 2.04405699299 },\n",
       "     { x: Thu Apr 16 2020 18:20:00 GMT-0600 (MDT), y: 2.02284199842 },\n",
       "     { x: Thu Apr 16 2020 18:30:00 GMT-0600 (MDT), y: 1.97903099721 },\n",
       "     { x: Thu Apr 16 2020 18:40:00 GMT-0600 (MDT), y: 1.99736149615 },\n",
       "     { x: Thu Apr 16 2020 18:50:00 GMT-0600 (MDT), y: 1.9424994955 },\n",
       "     { x: Thu Apr 16 2020 19:00:00 GMT-0600 (MDT), y: 1.8825969972 },\n",
       "     { x: Thu Apr 16 2020 19:10:00 GMT-0600 (MDT), y: 1.84467499792 },\n",
       "     { x: Thu Apr 16 2020 19:20:00 GMT-0600 (MDT), y: 1.84903549915 },\n",
       "     { x: Thu Apr 16 2020 19:30:00 GMT-0600 (MDT), y: 1.74201599934 },\n",
       "     { x: Thu Apr 16 2020 19:40:00 GMT-0600 (MDT), y: 1.74317849958 },\n",
       "     { x: Thu Apr 16 2020 19:50:00 GMT-0600 (MDT), y: 1.70917899928 },\n",
       "     { x: Thu Apr 16 2020 20:00:00 GMT-0600 (MDT), y: 1.56762149961 },\n",
       "     { x: Thu Apr 16 2020 20:10:00 GMT-0600 (MDT), y: 1.5154999997 },\n",
       "     { x: Thu Apr 16 2020 20:20:00 GMT-0600 (MDT), y: 1.57456649914 },\n",
       "     { x: Thu Apr 16 2020 20:30:00 GMT-0600 (MDT), y: 1.48510949953 },\n",
       "     { x: Thu Apr 16 2020 20:40:00 GMT-0600 (MDT), y: 1.4941814996 },\n",
       "     { x: Thu Apr 16 2020 20:50:00 GMT-0600 (MDT), y: 1.44555499992 },\n",
       "     { x: Thu Apr 16 2020 21:00:00 GMT-0600 (MDT), y: 1.23626199931 },\n",
       "     { x: Thu Apr 16 2020 21:10:00 GMT-0600 (MDT), y: 1.22347199996 },\n",
       "     { x: Thu Apr 16 2020 21:20:00 GMT-0600 (MDT), y: 1.22412349964 },\n",
       "     { x: Thu Apr 16 2020 21:30:00 GMT-0600 (MDT),\n",
       "       y: 0.988260999992 },\n",
       "     { x: Thu Apr 16 2020 21:40:00 GMT-0600 (MDT), y: 0.978806 },\n",
       "     { x: Thu Apr 16 2020 21:50:00 GMT-0600 (MDT), y: 0.9788245 },\n",
       "     { x: Thu Apr 16 2020 22:00:00 GMT-0600 (MDT), y: 0.899894 },\n",
       "     { x: Thu Apr 16 2020 22:10:00 GMT-0600 (MDT), y: 0.8999215 },\n",
       "     { x: Thu Apr 16 2020 22:20:00 GMT-0600 (MDT), y: 0.8999365 },\n",
       "     { x: Thu Apr 16 2020 22:30:00 GMT-0600 (MDT), y: 0.710459 },\n",
       "     { x: Thu Apr 16 2020 22:40:00 GMT-0600 (MDT), y: 0.71047 },\n",
       "     { x: Thu Apr 16 2020 22:50:00 GMT-0600 (MDT), y: 0.710476 },\n",
       "     { x: Thu Apr 16 2020 23:00:00 GMT-0600 (MDT), y: 0.70594 },\n",
       "     { x: Thu Apr 16 2020 23:10:00 GMT-0600 (MDT), y: 0.705954 },\n",
       "     { x: Thu Apr 16 2020 23:20:00 GMT-0600 (MDT), y: 0.7059595 },\n",
       "     { x: Thu Apr 16 2020 23:30:00 GMT-0600 (MDT), y: 0.69938 },\n",
       "     { x: Thu Apr 16 2020 23:40:00 GMT-0600 (MDT), y: 0.6993795 },\n",
       "     { x: Thu Apr 16 2020 23:50:00 GMT-0600 (MDT), y: 0.699387 },\n",
       "     { x: Fri Apr 17 2020 00:00:00 GMT-0600 (MDT), y: 0.692555 } ] }"
      ]
     },
     "execution_count": 17,
     "metadata": {},
     "output_type": "execute_result"
    }
   ],
   "source": [
    "var parseDate = d3.time.format(\"%Y-%m-%d %H:%M:%S\").parse;\n",
    "\n",
    "var load_json = names.map(function(name) {\n",
    "        return {\n",
    "          \"name\": name,\n",
    "          \"values\": load.map(function(d) { return { \"x\": parseDate(d.index), \"y\": +d[name] }; })\n",
    "        };\n",
    "    });\n",
    "\n",
    "load_json[0]"
   ]
  },
  {
   "cell_type": "markdown",
   "metadata": {},
   "source": [
    "####Scales "
   ]
  },
  {
   "cell_type": "code",
   "execution_count": 18,
   "metadata": {
    "collapsed": false
   },
   "outputs": [
    {
     "data": {
      "text/plain": [
       "[ { x: Thu Apr 16 2020 00:00:00 GMT-0600 (MDT),\n",
       "    y: 0.857212669594 },\n",
       "  { x: Thu Apr 16 2020 00:10:00 GMT-0600 (MDT),\n",
       "    y: 0.705776472345 },\n",
       "  { x: Thu Apr 16 2020 00:20:00 GMT-0600 (MDT),\n",
       "    y: 0.719812464262 },\n",
       "  { x: Thu Apr 16 2020 00:30:00 GMT-0600 (MDT),\n",
       "    y: 0.705856452329 },\n",
       "  { x: Thu Apr 16 2020 00:40:00 GMT-0600 (MDT),\n",
       "    y: 0.709668479812 },\n",
       "  { x: Thu Apr 16 2020 00:50:00 GMT-0600 (MDT),\n",
       "    y: 0.706665972836 },\n",
       "  { x: Thu Apr 16 2020 01:00:00 GMT-0600 (MDT),\n",
       "    y: 0.704977479627 },\n",
       "  { x: Thu Apr 16 2020 01:10:00 GMT-0600 (MDT),\n",
       "    y: 0.700186491876 },\n",
       "  { x: Thu Apr 16 2020 01:20:00 GMT-0600 (MDT),\n",
       "    y: 0.706996978359 },\n",
       "  { x: Thu Apr 16 2020 01:30:00 GMT-0600 (MDT),\n",
       "    y: 0.696038488204 },\n",
       "  { x: Thu Apr 16 2020 01:40:00 GMT-0600 (MDT),\n",
       "    y: 0.702172938959 },\n",
       "  { x: Thu Apr 16 2020 01:50:00 GMT-0600 (MDT),\n",
       "    y: 0.696802477428 },\n",
       "  { x: Thu Apr 16 2020 02:00:00 GMT-0600 (MDT),\n",
       "    y: 0.697226489813 },\n",
       "  { x: Thu Apr 16 2020 02:10:00 GMT-0600 (MDT),\n",
       "    y: 0.696246477069 },\n",
       "  { x: Thu Apr 16 2020 02:20:00 GMT-0600 (MDT),\n",
       "    y: 0.694969988082 },\n",
       "  { x: Thu Apr 16 2020 02:30:00 GMT-0600 (MDT),\n",
       "    y: 0.691345988843 },\n",
       "  { x: Thu Apr 16 2020 02:40:00 GMT-0600 (MDT),\n",
       "    y: 0.690531492564 },\n",
       "  { x: Thu Apr 16 2020 02:50:00 GMT-0600 (MDT),\n",
       "    y: 0.692835483399 },\n",
       "  { x: Thu Apr 16 2020 03:00:00 GMT-0600 (MDT),\n",
       "    y: 0.687086991062 },\n",
       "  { x: Thu Apr 16 2020 03:10:00 GMT-0600 (MDT),\n",
       "    y: 0.692392974766 },\n",
       "  { x: Thu Apr 16 2020 03:20:00 GMT-0600 (MDT),\n",
       "    y: 0.690951966147 },\n",
       "  { x: Thu Apr 16 2020 03:30:00 GMT-0600 (MDT),\n",
       "    y: 0.686555415236 },\n",
       "  { x: Thu Apr 16 2020 03:40:00 GMT-0600 (MDT),\n",
       "    y: 0.690944442543 },\n",
       "  { x: Thu Apr 16 2020 03:50:00 GMT-0600 (MDT),\n",
       "    y: 0.686466492956 },\n",
       "  { x: Thu Apr 16 2020 04:00:00 GMT-0600 (MDT),\n",
       "    y: 0.691811470669 },\n",
       "  { x: Thu Apr 16 2020 04:10:00 GMT-0600 (MDT),\n",
       "    y: 0.689249968484 },\n",
       "  { x: Thu Apr 16 2020 04:20:00 GMT-0600 (MDT),\n",
       "    y: 0.694775986515 },\n",
       "  { x: Thu Apr 16 2020 04:30:00 GMT-0600 (MDT),\n",
       "    y: 0.683636992603 },\n",
       "  { x: Thu Apr 16 2020 04:40:00 GMT-0600 (MDT),\n",
       "    y: 0.692864472851 },\n",
       "  { x: Thu Apr 16 2020 04:50:00 GMT-0600 (MDT),\n",
       "    y: 0.680544483018 },\n",
       "  { x: Thu Apr 16 2020 05:00:00 GMT-0600 (MDT),\n",
       "    y: 0.689433930167 },\n",
       "  { x: Thu Apr 16 2020 05:10:00 GMT-0600 (MDT),\n",
       "    y: 0.676779494788 },\n",
       "  { x: Thu Apr 16 2020 05:20:00 GMT-0600 (MDT),\n",
       "    y: 0.674292998466 },\n",
       "  { x: Thu Apr 16 2020 05:30:00 GMT-0600 (MDT),\n",
       "    y: 0.672412488891 },\n",
       "  { x: Thu Apr 16 2020 05:40:00 GMT-0600 (MDT),\n",
       "    y: 0.670495490709 },\n",
       "  { x: Thu Apr 16 2020 05:50:00 GMT-0600 (MDT),\n",
       "    y: 0.665584497364 },\n",
       "  { x: Thu Apr 16 2020 06:00:00 GMT-0600 (MDT),\n",
       "    y: 0.656028999567 },\n",
       "  { x: Thu Apr 16 2020 06:10:00 GMT-0600 (MDT),\n",
       "    y: 0.654626999697 },\n",
       "  { x: Thu Apr 16 2020 06:20:00 GMT-0600 (MDT),\n",
       "    y: 0.654620499698 },\n",
       "  { x: Thu Apr 16 2020 06:30:00 GMT-0600 (MDT),\n",
       "    y: 0.696402499711 },\n",
       "  { x: Thu Apr 16 2020 06:40:00 GMT-0600 (MDT), y: 0.6960485 },\n",
       "  { x: Thu Apr 16 2020 06:50:00 GMT-0600 (MDT), y: 0.696052 },\n",
       "  { x: Thu Apr 16 2020 07:00:00 GMT-0600 (MDT), y: 0.790365 },\n",
       "  { x: Thu Apr 16 2020 07:10:00 GMT-0600 (MDT),\n",
       "    y: 0.783941471238 },\n",
       "  { x: Thu Apr 16 2020 07:20:00 GMT-0600 (MDT),\n",
       "    y: 0.782790469432 },\n",
       "  { x: Thu Apr 16 2020 07:30:00 GMT-0600 (MDT),\n",
       "    y: 0.822705498752 },\n",
       "  { x: Thu Apr 16 2020 07:40:00 GMT-0600 (MDT),\n",
       "    y: 0.827206475349 },\n",
       "  { x: Thu Apr 16 2020 07:50:00 GMT-0600 (MDT),\n",
       "    y: 0.825516491356 },\n",
       "  { x: Thu Apr 16 2020 08:00:00 GMT-0600 (MDT), y: 1.12695799797 },\n",
       "  { x: Thu Apr 16 2020 08:10:00 GMT-0600 (MDT), y: 1.12552349131 },\n",
       "  { x: Thu Apr 16 2020 08:20:00 GMT-0600 (MDT), y: 1.12969749089 },\n",
       "  { x: Thu Apr 16 2020 08:30:00 GMT-0600 (MDT), y: 1.34362749634 },\n",
       "  { x: Thu Apr 16 2020 08:40:00 GMT-0600 (MDT), y: 1.33154798242 },\n",
       "  { x: Thu Apr 16 2020 08:50:00 GMT-0600 (MDT), y: 1.33183099699 },\n",
       "  { x: Thu Apr 16 2020 09:00:00 GMT-0600 (MDT), y: 1.5560404979 },\n",
       "  { x: Thu Apr 16 2020 09:10:00 GMT-0600 (MDT), y: 1.54866349938 },\n",
       "  { x: Thu Apr 16 2020 09:20:00 GMT-0600 (MDT), y: 1.58136099773 },\n",
       "  { x: Thu Apr 16 2020 09:30:00 GMT-0600 (MDT), y: 1.8385929972 },\n",
       "  { x: Thu Apr 16 2020 09:40:00 GMT-0600 (MDT), y: 1.85485599755 },\n",
       "  { x: Thu Apr 16 2020 09:50:00 GMT-0600 (MDT), y: 1.87753249859 },\n",
       "  { x: Thu Apr 16 2020 10:00:00 GMT-0600 (MDT), y: 1.8877064957 },\n",
       "  { x: Thu Apr 16 2020 10:10:00 GMT-0600 (MDT), y: 1.87987899733 },\n",
       "  { x: Thu Apr 16 2020 10:20:00 GMT-0600 (MDT), y: 1.94624849684 },\n",
       "  { x: Thu Apr 16 2020 10:30:00 GMT-0600 (MDT), y: 1.96559249775 },\n",
       "  { x: Thu Apr 16 2020 10:40:00 GMT-0600 (MDT), y: 2.01681249747 },\n",
       "  { x: Thu Apr 16 2020 10:50:00 GMT-0600 (MDT), y: 2.06608398451 },\n",
       "  { x: Thu Apr 16 2020 11:00:00 GMT-0600 (MDT), y: 2.04922297542 },\n",
       "  { x: Thu Apr 16 2020 11:10:00 GMT-0600 (MDT), y: 2.04954698507 },\n",
       "  { x: Thu Apr 16 2020 11:20:00 GMT-0600 (MDT), y: 2.04652649512 },\n",
       "  { x: Thu Apr 16 2020 11:30:00 GMT-0600 (MDT), y: 2.07118399329 },\n",
       "  { x: Thu Apr 16 2020 11:40:00 GMT-0600 (MDT), y: 2.13142599042 },\n",
       "  { x: Thu Apr 16 2020 11:50:00 GMT-0600 (MDT), y: 2.11015549248 },\n",
       "  { x: Thu Apr 16 2020 12:00:00 GMT-0600 (MDT), y: 2.14650299477 },\n",
       "  { x: Thu Apr 16 2020 12:10:00 GMT-0600 (MDT), y: 2.16270599615 },\n",
       "  { x: Thu Apr 16 2020 12:20:00 GMT-0600 (MDT), y: 2.23457349521 },\n",
       "  { x: Thu Apr 16 2020 12:30:00 GMT-0600 (MDT), y: 2.23833549723 },\n",
       "  { x: Thu Apr 16 2020 12:40:00 GMT-0600 (MDT), y: 2.20418999653 },\n",
       "  { x: Thu Apr 16 2020 12:50:00 GMT-0600 (MDT), y: 2.2586329967 },\n",
       "  { x: Thu Apr 16 2020 13:00:00 GMT-0600 (MDT), y: 2.23752599614 },\n",
       "  { x: Thu Apr 16 2020 13:10:00 GMT-0600 (MDT), y: 2.21697049656 },\n",
       "  { x: Thu Apr 16 2020 13:20:00 GMT-0600 (MDT), y: 2.17522199438 },\n",
       "  { x: Thu Apr 16 2020 13:30:00 GMT-0600 (MDT), y: 2.23076449367 },\n",
       "  { x: Thu Apr 16 2020 13:40:00 GMT-0600 (MDT), y: 2.12664349589 },\n",
       "  { x: Thu Apr 16 2020 13:50:00 GMT-0600 (MDT), y: 2.17741899132 },\n",
       "  { x: Thu Apr 16 2020 14:00:00 GMT-0600 (MDT), y: 2.16999149057 },\n",
       "  { x: Thu Apr 16 2020 14:10:00 GMT-0600 (MDT), y: 2.22207099126 },\n",
       "  { x: Thu Apr 16 2020 14:20:00 GMT-0600 (MDT), y: 2.15959249466 },\n",
       "  { x: Thu Apr 16 2020 14:30:00 GMT-0600 (MDT), y: 2.20669349562 },\n",
       "  { x: Thu Apr 16 2020 14:40:00 GMT-0600 (MDT), y: 2.17727549596 },\n",
       "  { x: Thu Apr 16 2020 14:50:00 GMT-0600 (MDT), y: 2.22196599365 },\n",
       "  { x: Thu Apr 16 2020 15:00:00 GMT-0600 (MDT), y: 2.21006698886 },\n",
       "  { x: Thu Apr 16 2020 15:10:00 GMT-0600 (MDT), y: 2.25652999133 },\n",
       "  { x: Thu Apr 16 2020 15:20:00 GMT-0600 (MDT), y: 2.26536299301 },\n",
       "  { x: Thu Apr 16 2020 15:30:00 GMT-0600 (MDT), y: 2.27941299775 },\n",
       "  { x: Thu Apr 16 2020 15:40:00 GMT-0600 (MDT), y: 2.28058199678 },\n",
       "  { x: Thu Apr 16 2020 15:50:00 GMT-0600 (MDT), y: 2.2730934931 },\n",
       "  { x: Thu Apr 16 2020 16:00:00 GMT-0600 (MDT), y: 2.27449799202 },\n",
       "  { x: Thu Apr 16 2020 16:10:00 GMT-0600 (MDT), y: 2.28389449458 },\n",
       "  { x: Thu Apr 16 2020 16:20:00 GMT-0600 (MDT), y: 2.27710749456 },\n",
       "  { x: Thu Apr 16 2020 16:30:00 GMT-0600 (MDT), y: 2.21649249589 },\n",
       "  { x: Thu Apr 16 2020 16:40:00 GMT-0600 (MDT), y: 2.20440399287 },\n",
       "  { x: Thu Apr 16 2020 16:50:00 GMT-0600 (MDT), y: 2.22603499335 },\n",
       "  { x: Thu Apr 16 2020 17:00:00 GMT-0600 (MDT), y: 2.23560749533 },\n",
       "  { x: Thu Apr 16 2020 17:10:00 GMT-0600 (MDT), y: 2.17184499814 },\n",
       "  { x: Thu Apr 16 2020 17:20:00 GMT-0600 (MDT), y: 2.15686099842 },\n",
       "  { x: Thu Apr 16 2020 17:30:00 GMT-0600 (MDT), y: 2.15342949757 },\n",
       "  { x: Thu Apr 16 2020 17:40:00 GMT-0600 (MDT), y: 2.13758749382 },\n",
       "  { x: Thu Apr 16 2020 17:50:00 GMT-0600 (MDT), y: 2.10518699454 },\n",
       "  { x: Thu Apr 16 2020 18:00:00 GMT-0600 (MDT), y: 2.06280749703 },\n",
       "  { x: Thu Apr 16 2020 18:10:00 GMT-0600 (MDT), y: 2.04405699299 },\n",
       "  { x: Thu Apr 16 2020 18:20:00 GMT-0600 (MDT), y: 2.02284199842 },\n",
       "  { x: Thu Apr 16 2020 18:30:00 GMT-0600 (MDT), y: 1.97903099721 },\n",
       "  { x: Thu Apr 16 2020 18:40:00 GMT-0600 (MDT), y: 1.99736149615 },\n",
       "  { x: Thu Apr 16 2020 18:50:00 GMT-0600 (MDT), y: 1.9424994955 },\n",
       "  { x: Thu Apr 16 2020 19:00:00 GMT-0600 (MDT), y: 1.8825969972 },\n",
       "  { x: Thu Apr 16 2020 19:10:00 GMT-0600 (MDT), y: 1.84467499792 },\n",
       "  { x: Thu Apr 16 2020 19:20:00 GMT-0600 (MDT), y: 1.84903549915 },\n",
       "  { x: Thu Apr 16 2020 19:30:00 GMT-0600 (MDT), y: 1.74201599934 },\n",
       "  { x: Thu Apr 16 2020 19:40:00 GMT-0600 (MDT), y: 1.74317849958 },\n",
       "  { x: Thu Apr 16 2020 19:50:00 GMT-0600 (MDT), y: 1.70917899928 },\n",
       "  { x: Thu Apr 16 2020 20:00:00 GMT-0600 (MDT), y: 1.56762149961 },\n",
       "  { x: Thu Apr 16 2020 20:10:00 GMT-0600 (MDT), y: 1.5154999997 },\n",
       "  { x: Thu Apr 16 2020 20:20:00 GMT-0600 (MDT), y: 1.57456649914 },\n",
       "  { x: Thu Apr 16 2020 20:30:00 GMT-0600 (MDT), y: 1.48510949953 },\n",
       "  { x: Thu Apr 16 2020 20:40:00 GMT-0600 (MDT), y: 1.4941814996 },\n",
       "  { x: Thu Apr 16 2020 20:50:00 GMT-0600 (MDT), y: 1.44555499992 },\n",
       "  { x: Thu Apr 16 2020 21:00:00 GMT-0600 (MDT), y: 1.23626199931 },\n",
       "  { x: Thu Apr 16 2020 21:10:00 GMT-0600 (MDT), y: 1.22347199996 },\n",
       "  { x: Thu Apr 16 2020 21:20:00 GMT-0600 (MDT), y: 1.22412349964 },\n",
       "  { x: Thu Apr 16 2020 21:30:00 GMT-0600 (MDT),\n",
       "    y: 0.988260999992 },\n",
       "  { x: Thu Apr 16 2020 21:40:00 GMT-0600 (MDT), y: 0.978806 },\n",
       "  { x: Thu Apr 16 2020 21:50:00 GMT-0600 (MDT), y: 0.9788245 },\n",
       "  { x: Thu Apr 16 2020 22:00:00 GMT-0600 (MDT), y: 0.899894 },\n",
       "  { x: Thu Apr 16 2020 22:10:00 GMT-0600 (MDT), y: 0.8999215 },\n",
       "  { x: Thu Apr 16 2020 22:20:00 GMT-0600 (MDT), y: 0.8999365 },\n",
       "  { x: Thu Apr 16 2020 22:30:00 GMT-0600 (MDT), y: 0.710459 },\n",
       "  { x: Thu Apr 16 2020 22:40:00 GMT-0600 (MDT), y: 0.71047 },\n",
       "  { x: Thu Apr 16 2020 22:50:00 GMT-0600 (MDT), y: 0.710476 },\n",
       "  { x: Thu Apr 16 2020 23:00:00 GMT-0600 (MDT), y: 0.70594 },\n",
       "  { x: Thu Apr 16 2020 23:10:00 GMT-0600 (MDT), y: 0.705954 },\n",
       "  { x: Thu Apr 16 2020 23:20:00 GMT-0600 (MDT), y: 0.7059595 },\n",
       "  { x: Thu Apr 16 2020 23:30:00 GMT-0600 (MDT), y: 0.69938 },\n",
       "  { x: Thu Apr 16 2020 23:40:00 GMT-0600 (MDT), y: 0.6993795 },\n",
       "  { x: Thu Apr 16 2020 23:50:00 GMT-0600 (MDT), y: 0.699387 },\n",
       "  { x: Fri Apr 17 2020 00:00:00 GMT-0600 (MDT), y: 0.692555 } ]"
      ]
     },
     "execution_count": 18,
     "metadata": {},
     "output_type": "execute_result"
    }
   ],
   "source": [
    "var values = _.pluck(load_json, 'values');\n",
    "\n",
    "values[0]"
   ]
  },
  {
   "cell_type": "markdown",
   "metadata": {},
   "source": [
    "We need to `flatten` or *flatmap* the array or arrays."
   ]
  },
  {
   "cell_type": "code",
   "execution_count": 19,
   "metadata": {
    "collapsed": false
   },
   "outputs": [
    {
     "data": {
      "text/plain": [
       "[ { x: Thu Apr 16 2020 00:00:00 GMT-0600 (MDT),\n",
       "    y: 0.857212669594 },\n",
       "  { x: Thu Apr 16 2020 00:10:00 GMT-0600 (MDT),\n",
       "    y: 0.705776472345 },\n",
       "  { x: Thu Apr 16 2020 00:20:00 GMT-0600 (MDT),\n",
       "    y: 0.719812464262 },\n",
       "  { x: Thu Apr 16 2020 00:30:00 GMT-0600 (MDT),\n",
       "    y: 0.705856452329 },\n",
       "  { x: Thu Apr 16 2020 00:40:00 GMT-0600 (MDT),\n",
       "    y: 0.709668479812 } ]"
      ]
     },
     "execution_count": 19,
     "metadata": {},
     "output_type": "execute_result"
    }
   ],
   "source": [
    "values = _.flatten(values)\n",
    "\n",
    "values.slice(0, 5)"
   ]
  },
  {
   "cell_type": "code",
   "execution_count": 20,
   "metadata": {
    "collapsed": false
   },
   "outputs": [
    {
     "data": {
      "text/plain": [
       "[ Thu Apr 16 2020 00:00:00 GMT-0600 (MDT),\n",
       "  Fri Apr 17 2020 00:00:00 GMT-0600 (MDT) ]"
      ]
     },
     "execution_count": 20,
     "metadata": {},
     "output_type": "execute_result"
    }
   ],
   "source": [
    "var xvals = _.pluck(values, 'x');\n",
    "d3.extent(xvals)"
   ]
  },
  {
   "cell_type": "code",
   "execution_count": 21,
   "metadata": {
    "collapsed": false
   },
   "outputs": [
    {
     "data": {
      "text/plain": [
       "[ 0.392183399819, 12.2928280401 ]"
      ]
     },
     "execution_count": 21,
     "metadata": {},
     "output_type": "execute_result"
    }
   ],
   "source": [
    "var yvals = _.pluck(values, 'y');\n",
    "d3.extent(yvals)"
   ]
  },
  {
   "cell_type": "code",
   "execution_count": 22,
   "metadata": {
    "collapsed": false
   },
   "outputs": [
    {
     "data": {
      "text/plain": [
       "undefined"
      ]
     },
     "execution_count": 22,
     "metadata": {},
     "output_type": "execute_result"
    }
   ],
   "source": [
    "var x_scale = d3.time.scale()\n",
    "                .domain(d3.extent(xvals))\n",
    "                .range([0, 100]);\n",
    "\n",
    "var y_scale = d3.scale.linear()\n",
    "                .domain(d3.extent(yvals))\n",
    "                .range([100, 0]);\n"
   ]
  },
  {
   "cell_type": "code",
   "execution_count": 23,
   "metadata": {
    "collapsed": false
   },
   "outputs": [
    {
     "data": {
      "text/plain": [
       "0.6944444444444444"
      ]
     },
     "execution_count": 23,
     "metadata": {},
     "output_type": "execute_result"
    }
   ],
   "source": [
    "x_scale(parseDate('2020-04-16 00:10:00'))"
   ]
  },
  {
   "cell_type": "code",
   "execution_count": 24,
   "metadata": {
    "collapsed": false
   },
   "outputs": [
    {
     "data": {
      "text/plain": [
       "19.266418831962206"
      ]
     },
     "execution_count": 24,
     "metadata": {},
     "output_type": "execute_result"
    }
   ],
   "source": [
    "y_scale(10)"
   ]
  },
  {
   "cell_type": "markdown",
   "metadata": {},
   "source": [
    "###3. Voronoi! "
   ]
  },
  {
   "cell_type": "code",
   "execution_count": 25,
   "metadata": {
    "collapsed": false
   },
   "outputs": [
    {
     "data": {
      "text/plain": [
       "[ { y: 12.271046143008101, x: 70.23151622240047, name: 'B11' },\n",
       "  { y: 89.0652518492427, x: 22.48328225904828, name: 'B0' },\n",
       "  { y: 67.367470940472, x: 68.6586253932227, name: 'B1' },\n",
       "  { y: 100, x: 0, name: 'B2' },\n",
       "  { y: 36.12869848538218, x: 5.148214001870468, name: 'B3' } ]"
      ]
     },
     "execution_count": 25,
     "metadata": {},
     "output_type": "execute_result"
    }
   ],
   "source": [
    "var nodes;\n",
    "\n",
    "fs.readFile(\"data/example_nodes.json\", \"utf8\", function(error, node_data) {\n",
    "    nodes = JSON.parse(node_data);\n",
    "});\n",
    "\n",
    "var x_scale = d3.scale.linear()\n",
    "                .domain(d3.extent(_.pluck(nodes, \"x\")))\n",
    "                .range([0, 100]);\n",
    "\n",
    "var y_scale = d3.scale.linear()\n",
    "                .domain(d3.extent(_.pluck(nodes, \"y\")))\n",
    "                .range([100, 0]);\n",
    "\n",
    "nodes.forEach(function(d) {\n",
    "        d.x = x_scale(d.x);\n",
    "        d.y = y_scale(d.y); \n",
    "      });\n",
    "\n",
    "nodes.slice(0,5)"
   ]
  },
  {
   "cell_type": "markdown",
   "metadata": {},
   "source": [
    "from [Mike Bostock](https://github.com/mbostock/d3/wiki/Voronoi-Geom)\n",
    " \n",
    "> Returns an array of polygons, one for each input vertex in the specified data array. Each polygon is an array of points, and each point is a two-element array of x and y positions."
   ]
  },
  {
   "cell_type": "code",
   "execution_count": 26,
   "metadata": {
    "collapsed": false
   },
   "outputs": [
    {
     "data": {
      "text/plain": [
       "[ [ [ 31.72431090307535, 281.7238083322705 ],\n",
       "    [ 42.50781405200926, 364.07505885057714 ],\n",
       "    [ 286.8084365409115, 140.85599348710764 ],\n",
       "    [ 132.54135346361488, 143.47878662449483 ],\n",
       "    point: { y: -169.37, x: 90.19, name: 'B11' } ],\n",
       "  [ [ -119.08888868070906, -43.43762517942245 ],\n",
       "    [ 26.287118348384297, -33.977554534615564 ],\n",
       "    [ 26.78880405622956, -38.068080601929154 ],\n",
       "    [ -28.527703513187376, -154.3317746511157 ],\n",
       "    point: { y: 179.46, x: -38.979, name: 'B0' } ] ]"
      ]
     },
     "execution_count": 26,
     "metadata": {},
     "output_type": "execute_result"
    }
   ],
   "source": [
    "var voronoi = d3.geom.voronoi()\n",
    "        .x(function(d) { return x_scale(d.x); })\n",
    "        .y(function(d) { return y_scale(d.y); });\n",
    "\n",
    "voronoi(nodes).slice(0,2)"
   ]
  },
  {
   "cell_type": "code",
   "execution_count": 27,
   "metadata": {
    "collapsed": false
   },
   "outputs": [
    {
     "data": {
      "text/plain": [
       "[ { y: -169.37,\n",
       "    x: 90.19,\n",
       "    name: 'B11',\n",
       "    cell: [ [Object], [Object], [Object], [Object], point: [Circular] ] },\n",
       "  { y: 179.46,\n",
       "    x: -38.979,\n",
       "    name: 'B0',\n",
       "    cell: [ [Object], [Object], [Object], [Object], point: [Circular] ] },\n",
       "  { y: 80.9,\n",
       "    x: 85.935,\n",
       "    name: 'B1',\n",
       "    cell: \n",
       "     [ [Object],\n",
       "       [Object],\n",
       "       [Object],\n",
       "       [Object],\n",
       "       [Object],\n",
       "       [Object],\n",
       "       [Object],\n",
       "       [Object],\n",
       "       point: [Circular] ] },\n",
       "  { y: 229.13,\n",
       "    x: -99.801,\n",
       "    name: 'B2',\n",
       "    cell: \n",
       "     [ [Object],\n",
       "       [Object],\n",
       "       [Object],\n",
       "       [Object],\n",
       "       [Object],\n",
       "       [Object],\n",
       "       point: [Circular] ] },\n",
       "  { y: -60.999,\n",
       "    x: -85.874,\n",
       "    name: 'B3',\n",
       "    cell: \n",
       "     [ [Object],\n",
       "       [Object],\n",
       "       [Object],\n",
       "       [Object],\n",
       "       [Object],\n",
       "       [Object],\n",
       "       [Object],\n",
       "       point: [Circular] ] },\n",
       "  { y: -225.11,\n",
       "    x: 141.12,\n",
       "    name: 'B10',\n",
       "    cell: \n",
       "     [ [Object],\n",
       "       [Object],\n",
       "       [Object],\n",
       "       [Object],\n",
       "       [Object],\n",
       "       [Object],\n",
       "       point: [Circular] ] },\n",
       "  { y: -122.28,\n",
       "    x: 25.618,\n",
       "    name: 'B6',\n",
       "    cell: \n",
       "     [ [Object],\n",
       "       [Object],\n",
       "       [Object],\n",
       "       [Object],\n",
       "       [Object],\n",
       "       point: [Circular] ] },\n",
       "  { y: 36.906,\n",
       "    x: 14.469,\n",
       "    name: 'B7',\n",
       "    cell: [ [Object], [Object], [Object], [Object], point: [Circular] ] },\n",
       "  { y: -184.84,\n",
       "    x: -27.951,\n",
       "    name: 'B8',\n",
       "    cell: \n",
       "     [ [Object],\n",
       "       [Object],\n",
       "       [Object],\n",
       "       [Object],\n",
       "       [Object],\n",
       "       [Object],\n",
       "       point: [Circular] ] },\n",
       "  { y: -44.57,\n",
       "    x: -3.8916,\n",
       "    name: 'B13',\n",
       "    cell: [ [Object], [Object], [Object], [Object], point: [Circular] ] },\n",
       "  { y: 197.88,\n",
       "    x: 170.72,\n",
       "    name: 'B4',\n",
       "    cell: \n",
       "     [ [Object],\n",
       "       [Object],\n",
       "       [Object],\n",
       "       [Object],\n",
       "       [Object],\n",
       "       [Object],\n",
       "       point: [Circular] ] },\n",
       "  { y: 97.337,\n",
       "    x: -44.323,\n",
       "    name: 'B9',\n",
       "    cell: \n",
       "     [ [Object],\n",
       "       [Object],\n",
       "       [Object],\n",
       "       [Object],\n",
       "       [Object],\n",
       "       [Object],\n",
       "       point: [Circular] ] },\n",
       "  { y: 215.21,\n",
       "    x: 36.16,\n",
       "    name: 'B12',\n",
       "    cell: \n",
       "     [ [Object],\n",
       "       [Object],\n",
       "       [Object],\n",
       "       [Object],\n",
       "       [Object],\n",
       "       point: [Circular] ] },\n",
       "  { y: 162.34,\n",
       "    x: 100.61,\n",
       "    name: 'B5',\n",
       "    cell: \n",
       "     [ [Object],\n",
       "       [Object],\n",
       "       [Object],\n",
       "       [Object],\n",
       "       [Object],\n",
       "       point: [Circular] ] } ]"
      ]
     },
     "execution_count": 27,
     "metadata": {},
     "output_type": "execute_result"
    }
   ],
   "source": [
    "voronoi(nodes).forEach(function(v) { v.point.cell = v; });\n",
    "nodes"
   ]
  },
  {
   "cell_type": "markdown",
   "metadata": {
    "collapsed": true
   },
   "source": [
    "## 4. Timeseries Voronoi"
   ]
  },
  {
   "cell_type": "code",
   "execution_count": 36,
   "metadata": {
    "collapsed": false
   },
   "outputs": [
    {
     "data": {
      "text/plain": [
       "{ name: 'B10',\n",
       "  values: \n",
       "   [ { x: Thu Apr 16 2020 00:00:00 GMT-0600 (MDT),\n",
       "       y: 0.857212669594 },\n",
       "     { x: Thu Apr 16 2020 00:10:00 GMT-0600 (MDT),\n",
       "       y: 0.705776472345 },\n",
       "     { x: Thu Apr 16 2020 00:20:00 GMT-0600 (MDT),\n",
       "       y: 0.719812464262 },\n",
       "     { x: Thu Apr 16 2020 00:30:00 GMT-0600 (MDT),\n",
       "       y: 0.705856452329 },\n",
       "     { x: Thu Apr 16 2020 00:40:00 GMT-0600 (MDT),\n",
       "       y: 0.709668479812 },\n",
       "     { x: Thu Apr 16 2020 00:50:00 GMT-0600 (MDT),\n",
       "       y: 0.706665972836 },\n",
       "     { x: Thu Apr 16 2020 01:00:00 GMT-0600 (MDT),\n",
       "       y: 0.704977479627 },\n",
       "     { x: Thu Apr 16 2020 01:10:00 GMT-0600 (MDT),\n",
       "       y: 0.700186491876 },\n",
       "     { x: Thu Apr 16 2020 01:20:00 GMT-0600 (MDT),\n",
       "       y: 0.706996978359 },\n",
       "     { x: Thu Apr 16 2020 01:30:00 GMT-0600 (MDT),\n",
       "       y: 0.696038488204 },\n",
       "     { x: Thu Apr 16 2020 01:40:00 GMT-0600 (MDT),\n",
       "       y: 0.702172938959 },\n",
       "     { x: Thu Apr 16 2020 01:50:00 GMT-0600 (MDT),\n",
       "       y: 0.696802477428 },\n",
       "     { x: Thu Apr 16 2020 02:00:00 GMT-0600 (MDT),\n",
       "       y: 0.697226489813 },\n",
       "     { x: Thu Apr 16 2020 02:10:00 GMT-0600 (MDT),\n",
       "       y: 0.696246477069 },\n",
       "     { x: Thu Apr 16 2020 02:20:00 GMT-0600 (MDT),\n",
       "       y: 0.694969988082 },\n",
       "     { x: Thu Apr 16 2020 02:30:00 GMT-0600 (MDT),\n",
       "       y: 0.691345988843 },\n",
       "     { x: Thu Apr 16 2020 02:40:00 GMT-0600 (MDT),\n",
       "       y: 0.690531492564 },\n",
       "     { x: Thu Apr 16 2020 02:50:00 GMT-0600 (MDT),\n",
       "       y: 0.692835483399 },\n",
       "     { x: Thu Apr 16 2020 03:00:00 GMT-0600 (MDT),\n",
       "       y: 0.687086991062 },\n",
       "     { x: Thu Apr 16 2020 03:10:00 GMT-0600 (MDT),\n",
       "       y: 0.692392974766 },\n",
       "     { x: Thu Apr 16 2020 03:20:00 GMT-0600 (MDT),\n",
       "       y: 0.690951966147 },\n",
       "     { x: Thu Apr 16 2020 03:30:00 GMT-0600 (MDT),\n",
       "       y: 0.686555415236 },\n",
       "     { x: Thu Apr 16 2020 03:40:00 GMT-0600 (MDT),\n",
       "       y: 0.690944442543 },\n",
       "     { x: Thu Apr 16 2020 03:50:00 GMT-0600 (MDT),\n",
       "       y: 0.686466492956 },\n",
       "     { x: Thu Apr 16 2020 04:00:00 GMT-0600 (MDT),\n",
       "       y: 0.691811470669 },\n",
       "     { x: Thu Apr 16 2020 04:10:00 GMT-0600 (MDT),\n",
       "       y: 0.689249968484 },\n",
       "     { x: Thu Apr 16 2020 04:20:00 GMT-0600 (MDT),\n",
       "       y: 0.694775986515 },\n",
       "     { x: Thu Apr 16 2020 04:30:00 GMT-0600 (MDT),\n",
       "       y: 0.683636992603 },\n",
       "     { x: Thu Apr 16 2020 04:40:00 GMT-0600 (MDT),\n",
       "       y: 0.692864472851 },\n",
       "     { x: Thu Apr 16 2020 04:50:00 GMT-0600 (MDT),\n",
       "       y: 0.680544483018 },\n",
       "     { x: Thu Apr 16 2020 05:00:00 GMT-0600 (MDT),\n",
       "       y: 0.689433930167 },\n",
       "     { x: Thu Apr 16 2020 05:10:00 GMT-0600 (MDT),\n",
       "       y: 0.676779494788 },\n",
       "     { x: Thu Apr 16 2020 05:20:00 GMT-0600 (MDT),\n",
       "       y: 0.674292998466 },\n",
       "     { x: Thu Apr 16 2020 05:30:00 GMT-0600 (MDT),\n",
       "       y: 0.672412488891 },\n",
       "     { x: Thu Apr 16 2020 05:40:00 GMT-0600 (MDT),\n",
       "       y: 0.670495490709 },\n",
       "     { x: Thu Apr 16 2020 05:50:00 GMT-0600 (MDT),\n",
       "       y: 0.665584497364 },\n",
       "     { x: Thu Apr 16 2020 06:00:00 GMT-0600 (MDT),\n",
       "       y: 0.656028999567 },\n",
       "     { x: Thu Apr 16 2020 06:10:00 GMT-0600 (MDT),\n",
       "       y: 0.654626999697 },\n",
       "     { x: Thu Apr 16 2020 06:20:00 GMT-0600 (MDT),\n",
       "       y: 0.654620499698 },\n",
       "     { x: Thu Apr 16 2020 06:30:00 GMT-0600 (MDT),\n",
       "       y: 0.696402499711 },\n",
       "     { x: Thu Apr 16 2020 06:40:00 GMT-0600 (MDT), y: 0.6960485 },\n",
       "     { x: Thu Apr 16 2020 06:50:00 GMT-0600 (MDT), y: 0.696052 },\n",
       "     { x: Thu Apr 16 2020 07:00:00 GMT-0600 (MDT), y: 0.790365 },\n",
       "     { x: Thu Apr 16 2020 07:10:00 GMT-0600 (MDT),\n",
       "       y: 0.783941471238 },\n",
       "     { x: Thu Apr 16 2020 07:20:00 GMT-0600 (MDT),\n",
       "       y: 0.782790469432 },\n",
       "     { x: Thu Apr 16 2020 07:30:00 GMT-0600 (MDT),\n",
       "       y: 0.822705498752 },\n",
       "     { x: Thu Apr 16 2020 07:40:00 GMT-0600 (MDT),\n",
       "       y: 0.827206475349 },\n",
       "     { x: Thu Apr 16 2020 07:50:00 GMT-0600 (MDT),\n",
       "       y: 0.825516491356 },\n",
       "     { x: Thu Apr 16 2020 08:00:00 GMT-0600 (MDT), y: 1.12695799797 },\n",
       "     { x: Thu Apr 16 2020 08:10:00 GMT-0600 (MDT), y: 1.12552349131 },\n",
       "     { x: Thu Apr 16 2020 08:20:00 GMT-0600 (MDT), y: 1.12969749089 },\n",
       "     { x: Thu Apr 16 2020 08:30:00 GMT-0600 (MDT), y: 1.34362749634 },\n",
       "     { x: Thu Apr 16 2020 08:40:00 GMT-0600 (MDT), y: 1.33154798242 },\n",
       "     { x: Thu Apr 16 2020 08:50:00 GMT-0600 (MDT), y: 1.33183099699 },\n",
       "     { x: Thu Apr 16 2020 09:00:00 GMT-0600 (MDT), y: 1.5560404979 },\n",
       "     { x: Thu Apr 16 2020 09:10:00 GMT-0600 (MDT), y: 1.54866349938 },\n",
       "     { x: Thu Apr 16 2020 09:20:00 GMT-0600 (MDT), y: 1.58136099773 },\n",
       "     { x: Thu Apr 16 2020 09:30:00 GMT-0600 (MDT), y: 1.8385929972 },\n",
       "     { x: Thu Apr 16 2020 09:40:00 GMT-0600 (MDT), y: 1.85485599755 },\n",
       "     { x: Thu Apr 16 2020 09:50:00 GMT-0600 (MDT), y: 1.87753249859 },\n",
       "     { x: Thu Apr 16 2020 10:00:00 GMT-0600 (MDT), y: 1.8877064957 },\n",
       "     { x: Thu Apr 16 2020 10:10:00 GMT-0600 (MDT), y: 1.87987899733 },\n",
       "     { x: Thu Apr 16 2020 10:20:00 GMT-0600 (MDT), y: 1.94624849684 },\n",
       "     { x: Thu Apr 16 2020 10:30:00 GMT-0600 (MDT), y: 1.96559249775 },\n",
       "     { x: Thu Apr 16 2020 10:40:00 GMT-0600 (MDT), y: 2.01681249747 },\n",
       "     { x: Thu Apr 16 2020 10:50:00 GMT-0600 (MDT), y: 2.06608398451 },\n",
       "     { x: Thu Apr 16 2020 11:00:00 GMT-0600 (MDT), y: 2.04922297542 },\n",
       "     { x: Thu Apr 16 2020 11:10:00 GMT-0600 (MDT), y: 2.04954698507 },\n",
       "     { x: Thu Apr 16 2020 11:20:00 GMT-0600 (MDT), y: 2.04652649512 },\n",
       "     { x: Thu Apr 16 2020 11:30:00 GMT-0600 (MDT), y: 2.07118399329 },\n",
       "     { x: Thu Apr 16 2020 11:40:00 GMT-0600 (MDT), y: 2.13142599042 },\n",
       "     { x: Thu Apr 16 2020 11:50:00 GMT-0600 (MDT), y: 2.11015549248 },\n",
       "     { x: Thu Apr 16 2020 12:00:00 GMT-0600 (MDT), y: 2.14650299477 },\n",
       "     { x: Thu Apr 16 2020 12:10:00 GMT-0600 (MDT), y: 2.16270599615 },\n",
       "     { x: Thu Apr 16 2020 12:20:00 GMT-0600 (MDT), y: 2.23457349521 },\n",
       "     { x: Thu Apr 16 2020 12:30:00 GMT-0600 (MDT), y: 2.23833549723 },\n",
       "     { x: Thu Apr 16 2020 12:40:00 GMT-0600 (MDT), y: 2.20418999653 },\n",
       "     { x: Thu Apr 16 2020 12:50:00 GMT-0600 (MDT), y: 2.2586329967 },\n",
       "     { x: Thu Apr 16 2020 13:00:00 GMT-0600 (MDT), y: 2.23752599614 },\n",
       "     { x: Thu Apr 16 2020 13:10:00 GMT-0600 (MDT), y: 2.21697049656 },\n",
       "     { x: Thu Apr 16 2020 13:20:00 GMT-0600 (MDT), y: 2.17522199438 },\n",
       "     { x: Thu Apr 16 2020 13:30:00 GMT-0600 (MDT), y: 2.23076449367 },\n",
       "     { x: Thu Apr 16 2020 13:40:00 GMT-0600 (MDT), y: 2.12664349589 },\n",
       "     { x: Thu Apr 16 2020 13:50:00 GMT-0600 (MDT), y: 2.17741899132 },\n",
       "     { x: Thu Apr 16 2020 14:00:00 GMT-0600 (MDT), y: 2.16999149057 },\n",
       "     { x: Thu Apr 16 2020 14:10:00 GMT-0600 (MDT), y: 2.22207099126 },\n",
       "     { x: Thu Apr 16 2020 14:20:00 GMT-0600 (MDT), y: 2.15959249466 },\n",
       "     { x: Thu Apr 16 2020 14:30:00 GMT-0600 (MDT), y: 2.20669349562 },\n",
       "     { x: Thu Apr 16 2020 14:40:00 GMT-0600 (MDT), y: 2.17727549596 },\n",
       "     { x: Thu Apr 16 2020 14:50:00 GMT-0600 (MDT), y: 2.22196599365 },\n",
       "     { x: Thu Apr 16 2020 15:00:00 GMT-0600 (MDT), y: 2.21006698886 },\n",
       "     { x: Thu Apr 16 2020 15:10:00 GMT-0600 (MDT), y: 2.25652999133 },\n",
       "     { x: Thu Apr 16 2020 15:20:00 GMT-0600 (MDT), y: 2.26536299301 },\n",
       "     { x: Thu Apr 16 2020 15:30:00 GMT-0600 (MDT), y: 2.27941299775 },\n",
       "     { x: Thu Apr 16 2020 15:40:00 GMT-0600 (MDT), y: 2.28058199678 },\n",
       "     { x: Thu Apr 16 2020 15:50:00 GMT-0600 (MDT), y: 2.2730934931 },\n",
       "     { x: Thu Apr 16 2020 16:00:00 GMT-0600 (MDT), y: 2.27449799202 },\n",
       "     { x: Thu Apr 16 2020 16:10:00 GMT-0600 (MDT), y: 2.28389449458 },\n",
       "     { x: Thu Apr 16 2020 16:20:00 GMT-0600 (MDT), y: 2.27710749456 },\n",
       "     { x: Thu Apr 16 2020 16:30:00 GMT-0600 (MDT), y: 2.21649249589 },\n",
       "     { x: Thu Apr 16 2020 16:40:00 GMT-0600 (MDT), y: 2.20440399287 },\n",
       "     { x: Thu Apr 16 2020 16:50:00 GMT-0600 (MDT), y: 2.22603499335 },\n",
       "     { x: Thu Apr 16 2020 17:00:00 GMT-0600 (MDT), y: 2.23560749533 },\n",
       "     { x: Thu Apr 16 2020 17:10:00 GMT-0600 (MDT), y: 2.17184499814 },\n",
       "     { x: Thu Apr 16 2020 17:20:00 GMT-0600 (MDT), y: 2.15686099842 },\n",
       "     { x: Thu Apr 16 2020 17:30:00 GMT-0600 (MDT), y: 2.15342949757 },\n",
       "     { x: Thu Apr 16 2020 17:40:00 GMT-0600 (MDT), y: 2.13758749382 },\n",
       "     { x: Thu Apr 16 2020 17:50:00 GMT-0600 (MDT), y: 2.10518699454 },\n",
       "     { x: Thu Apr 16 2020 18:00:00 GMT-0600 (MDT), y: 2.06280749703 },\n",
       "     { x: Thu Apr 16 2020 18:10:00 GMT-0600 (MDT), y: 2.04405699299 },\n",
       "     { x: Thu Apr 16 2020 18:20:00 GMT-0600 (MDT), y: 2.02284199842 },\n",
       "     { x: Thu Apr 16 2020 18:30:00 GMT-0600 (MDT), y: 1.97903099721 },\n",
       "     { x: Thu Apr 16 2020 18:40:00 GMT-0600 (MDT), y: 1.99736149615 },\n",
       "     { x: Thu Apr 16 2020 18:50:00 GMT-0600 (MDT), y: 1.9424994955 },\n",
       "     { x: Thu Apr 16 2020 19:00:00 GMT-0600 (MDT), y: 1.8825969972 },\n",
       "     { x: Thu Apr 16 2020 19:10:00 GMT-0600 (MDT), y: 1.84467499792 },\n",
       "     { x: Thu Apr 16 2020 19:20:00 GMT-0600 (MDT), y: 1.84903549915 },\n",
       "     { x: Thu Apr 16 2020 19:30:00 GMT-0600 (MDT), y: 1.74201599934 },\n",
       "     { x: Thu Apr 16 2020 19:40:00 GMT-0600 (MDT), y: 1.74317849958 },\n",
       "     { x: Thu Apr 16 2020 19:50:00 GMT-0600 (MDT), y: 1.70917899928 },\n",
       "     { x: Thu Apr 16 2020 20:00:00 GMT-0600 (MDT), y: 1.56762149961 },\n",
       "     { x: Thu Apr 16 2020 20:10:00 GMT-0600 (MDT), y: 1.5154999997 },\n",
       "     { x: Thu Apr 16 2020 20:20:00 GMT-0600 (MDT), y: 1.57456649914 },\n",
       "     { x: Thu Apr 16 2020 20:30:00 GMT-0600 (MDT), y: 1.48510949953 },\n",
       "     { x: Thu Apr 16 2020 20:40:00 GMT-0600 (MDT), y: 1.4941814996 },\n",
       "     { x: Thu Apr 16 2020 20:50:00 GMT-0600 (MDT), y: 1.44555499992 },\n",
       "     { x: Thu Apr 16 2020 21:00:00 GMT-0600 (MDT), y: 1.23626199931 },\n",
       "     { x: Thu Apr 16 2020 21:10:00 GMT-0600 (MDT), y: 1.22347199996 },\n",
       "     { x: Thu Apr 16 2020 21:20:00 GMT-0600 (MDT), y: 1.22412349964 },\n",
       "     { x: Thu Apr 16 2020 21:30:00 GMT-0600 (MDT),\n",
       "       y: 0.988260999992 },\n",
       "     { x: Thu Apr 16 2020 21:40:00 GMT-0600 (MDT), y: 0.978806 },\n",
       "     { x: Thu Apr 16 2020 21:50:00 GMT-0600 (MDT), y: 0.9788245 },\n",
       "     { x: Thu Apr 16 2020 22:00:00 GMT-0600 (MDT), y: 0.899894 },\n",
       "     { x: Thu Apr 16 2020 22:10:00 GMT-0600 (MDT), y: 0.8999215 },\n",
       "     { x: Thu Apr 16 2020 22:20:00 GMT-0600 (MDT), y: 0.8999365 },\n",
       "     { x: Thu Apr 16 2020 22:30:00 GMT-0600 (MDT), y: 0.710459 },\n",
       "     { x: Thu Apr 16 2020 22:40:00 GMT-0600 (MDT), y: 0.71047 },\n",
       "     { x: Thu Apr 16 2020 22:50:00 GMT-0600 (MDT), y: 0.710476 },\n",
       "     { x: Thu Apr 16 2020 23:00:00 GMT-0600 (MDT), y: 0.70594 },\n",
       "     { x: Thu Apr 16 2020 23:10:00 GMT-0600 (MDT), y: 0.705954 },\n",
       "     { x: Thu Apr 16 2020 23:20:00 GMT-0600 (MDT), y: 0.7059595 },\n",
       "     { x: Thu Apr 16 2020 23:30:00 GMT-0600 (MDT), y: 0.69938 },\n",
       "     { x: Thu Apr 16 2020 23:40:00 GMT-0600 (MDT), y: 0.6993795 },\n",
       "     { x: Thu Apr 16 2020 23:50:00 GMT-0600 (MDT), y: 0.699387 },\n",
       "     { x: Fri Apr 17 2020 00:00:00 GMT-0600 (MDT), y: 0.692555 } ] }"
      ]
     },
     "execution_count": 36,
     "metadata": {},
     "output_type": "execute_result"
    }
   ],
   "source": [
    "var load;\n",
    "\n",
    "fs.readFile(\"data/example_load.csv\", \"utf8\", function(error, load_data) {\n",
    "    load = d3.csv.parse(load_data);\n",
    "});\n",
    "\n",
    "var names = d3.keys(load[0]).filter(function(x) { return x !== \"index\"; })\n",
    "var parseDate = d3.time.format(\"%Y-%m-%d %H:%M:%S\").parse;\n",
    "\n",
    "var load_json = names.map(function(name) {\n",
    "        return {\n",
    "          \"name\": name,\n",
    "          \"values\": load.map(function(d) { return { \"x\": parseDate(d.index), \"y\": +d[name] }; })\n",
    "        };\n",
    "    });\n",
    "\n",
    "var values = _.pluck(load_json, 'values');\n",
    "values = _.flatten(values);\n",
    "\n",
    "var xvals = _.pluck(values, 'x');\n",
    "var yvals = _.pluck(values, 'y');\n",
    "\n",
    "var x_scale = d3.time.scale()\n",
    "            .domain(d3.extent(xvals))\n",
    "            .range([0, 100]);\n",
    "\n",
    "var y_scale = d3.scale.linear()\n",
    "            .domain(d3.extent(yvals))\n",
    "            .range([100, 0]);\n",
    "\n",
    "load_json[0]"
   ]
  },
  {
   "cell_type": "code",
   "execution_count": 37,
   "metadata": {
    "collapsed": false
   },
   "outputs": [
    {
     "data": {
      "text/plain": [
       "[ { name: 'B10',\n",
       "    x: Thu Apr 16 2020 00:00:00 GMT-0600 (MDT),\n",
       "    y: 0.857212669594 },\n",
       "  { name: 'B10',\n",
       "    x: Thu Apr 16 2020 00:10:00 GMT-0600 (MDT),\n",
       "    y: 0.705776472345 },\n",
       "  { name: 'B10',\n",
       "    x: Thu Apr 16 2020 00:20:00 GMT-0600 (MDT),\n",
       "    y: 0.719812464262 },\n",
       "  { name: 'B10',\n",
       "    x: Thu Apr 16 2020 00:30:00 GMT-0600 (MDT),\n",
       "    y: 0.705856452329 },\n",
       "  { name: 'B10',\n",
       "    x: Thu Apr 16 2020 00:40:00 GMT-0600 (MDT),\n",
       "    y: 0.709668479812 } ]"
      ]
     },
     "execution_count": 37,
     "metadata": {},
     "output_type": "execute_result"
    }
   ],
   "source": [
    "points = [];\n",
    "\n",
    "load_json.forEach(function(d){\n",
    "    d.values.forEach(function(v){\n",
    "        points.push({'name': d.name,\n",
    "                'x': v.x,\n",
    "                'y': v.y});\n",
    "    });\n",
    "});\n",
    "\n",
    "points.slice(0, 5)"
   ]
  },
  {
   "cell_type": "code",
   "execution_count": 38,
   "metadata": {
    "collapsed": false
   },
   "outputs": [
    {
     "data": {
      "text/plain": [
       "undefined"
      ]
     },
     "execution_count": 38,
     "metadata": {},
     "output_type": "execute_result"
    }
   ],
   "source": [
    "var voronoi = d3.geom.voronoi()\n",
    "    .x(function(d) { return x_scale(d.x); })\n",
    "    .y(function(d) { return y_scale(d.y); });"
   ]
  },
  {
   "cell_type": "code",
   "execution_count": 39,
   "metadata": {
    "collapsed": false
   },
   "outputs": [
    {
     "data": {
      "text/plain": [
       "[ [ [ -1000000, 96.9932585 ],\n",
       "    [ -0.13763928782738843, 96.9932585 ],\n",
       "    [ 0.8930335717128436, 96.43078908279537 ],\n",
       "    [ 2.0965745836528358, 94.982979159775 ],\n",
       "    [ 1.3906495351949701, 94.56054078757448 ],\n",
       "    [ -5.406079440864921, 93.2042905 ],\n",
       "    [ -1000000, 93.20429049999998 ],\n",
       "    point: { name: 'B10',\n",
       "      x: Thu Apr 16 2020 00:00:00 GMT-0600 (MDT),\n",
       "      y: 0.857212669594 } ],\n",
       "  [ [ -0.13763928782738843, 96.9932585 ],\n",
       "    [ 0.5699766727245067, 97.921817 ],\n",
       "    [ 1.0670461876181778, 97.921817 ],\n",
       "    [ 1.138866022559751, 97.8782435 ],\n",
       "    [ 0.8930335717128436, 96.43078908279537 ],\n",
       "    point: { name: 'B10',\n",
       "      x: Thu Apr 16 2020 00:10:00 GMT-0600 (MDT),\n",
       "      y: 0.705776472345 } ] ]"
      ]
     },
     "execution_count": 39,
     "metadata": {},
     "output_type": "execute_result"
    }
   ],
   "source": [
    "voronoi(points).slice(0,2)"
   ]
  },
  {
   "cell_type": "code",
   "execution_count": 32,
   "metadata": {
    "collapsed": false
   },
   "outputs": [
    {
     "data": {
      "text/plain": [
       "[ { name: 'B10',\n",
       "    x: Thu Apr 16 2020 00:00:00 GMT-0600 (MDT),\n",
       "    y: 0.857212669594,\n",
       "    cell: \n",
       "     [ [Object],\n",
       "       [Object],\n",
       "       [Object],\n",
       "       [Object],\n",
       "       [Object],\n",
       "       [Object],\n",
       "       [Object],\n",
       "       point: [Circular] ] },\n",
       "  { name: 'B10',\n",
       "    x: Thu Apr 16 2020 00:10:00 GMT-0600 (MDT),\n",
       "    y: 0.705776472345,\n",
       "    cell: \n",
       "     [ [Object],\n",
       "       [Object],\n",
       "       [Object],\n",
       "       [Object],\n",
       "       [Object],\n",
       "       point: [Circular] ] } ]"
      ]
     },
     "execution_count": 32,
     "metadata": {},
     "output_type": "execute_result"
    }
   ],
   "source": [
    "voronoi(points).forEach(function(v) { v.point.cell = v; });\n",
    "points.slice(0, 2)"
   ]
  },
  {
   "cell_type": "code",
   "execution_count": 41,
   "metadata": {
    "collapsed": false
   },
   "outputs": [
    {
     "data": {
      "text/plain": [
       "[ [ [ -1000000, 96.9932585 ],\n",
       "    [ -0.13763928782738843, 96.9932585 ],\n",
       "    [ 0.8930335717128436, 96.43078908279537 ],\n",
       "    [ 2.0965745836528358, 94.982979159775 ],\n",
       "    [ 1.3906495351949701, 94.56054078757448 ],\n",
       "    [ -5.406079440864921, 93.2042905 ],\n",
       "    [ -1000000, 93.20429049999998 ],\n",
       "    point: { name: 'B10',\n",
       "      x: Thu Apr 16 2020 00:00:00 GMT-0600 (MDT),\n",
       "      y: 0.857212669594 } ],\n",
       "  [ [ -0.13763928782738843, 96.9932585 ],\n",
       "    [ 0.5699766727245067, 97.921817 ],\n",
       "    [ 1.0670461876181778, 97.921817 ],\n",
       "    [ 1.138866022559751, 97.8782435 ],\n",
       "    [ 0.8930335717128436, 96.43078908279537 ],\n",
       "    point: { name: 'B10',\n",
       "      x: Thu Apr 16 2020 00:10:00 GMT-0600 (MDT),\n",
       "      y: 0.705776472345 } ] ]"
      ]
     },
     "execution_count": 41,
     "metadata": {},
     "output_type": "execute_result"
    }
   ],
   "source": [
    "voronoi(points).map(function(v) { return v }).slice(0,2)"
   ]
  },
  {
   "cell_type": "code",
   "execution_count": 42,
   "metadata": {
    "collapsed": false
   },
   "outputs": [
    {
     "data": {
      "text/plain": [
       "undefined"
      ]
     },
     "execution_count": 42,
     "metadata": {},
     "output_type": "execute_result"
    }
   ],
   "source": [
    "var res = voronoi(points)"
   ]
  },
  {
   "cell_type": "code",
   "execution_count": 66,
   "metadata": {
    "collapsed": false
   },
   "outputs": [
    {
     "data": {
      "text/plain": [
       "[ [ -1000000, 96.9932585 ],\n",
       "  [ -0.13763928782738843, 96.9932585 ],\n",
       "  [ 0.8930335717128436, 96.43078908279537 ],\n",
       "  [ 2.0965745836528358, 94.982979159775 ],\n",
       "  [ 1.3906495351949701, 94.56054078757448 ],\n",
       "  [ -5.406079440864921, 93.2042905 ],\n",
       "  [ -1000000, 93.20429049999998 ],\n",
       "  point: { name: 'B10',\n",
       "    x: Thu Apr 16 2020 00:00:00 GMT-0600 (MDT),\n",
       "    y: 0.857212669594 } ]"
      ]
     },
     "execution_count": 66,
     "metadata": {},
     "output_type": "execute_result"
    }
   ],
   "source": [
    "d = res[0]"
   ]
  },
  {
   "cell_type": "code",
   "execution_count": 67,
   "metadata": {
    "collapsed": false
   },
   "outputs": [
    {
     "data": {
      "text/plain": [
       "'B10'"
      ]
     },
     "execution_count": 67,
     "metadata": {},
     "output_type": "execute_result"
    }
   ],
   "source": [
    "d.point.name"
   ]
  },
  {
   "cell_type": "code",
   "execution_count": null,
   "metadata": {
    "collapsed": true
   },
   "outputs": [],
   "source": []
  }
 ],
 "metadata": {
  "kernelspec": {
   "display_name": "Javascript (Node.js)",
   "language": "javascript",
   "name": "javascript"
  },
  "language_info": {
   "file_extension": "js",
   "mimetype": "application/javascript",
   "name": "javascript",
   "version": "0.10.33"
  }
 },
 "nbformat": 4,
 "nbformat_minor": 0
}
